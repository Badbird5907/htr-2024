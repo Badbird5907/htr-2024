{
 "cells": [
  {
   "cell_type": "code",
   "execution_count": 6,
   "id": "bd123eda-dcd6-4e24-a0c9-18e1957d7093",
   "metadata": {},
   "outputs": [],
   "source": [
    "import torch\n",
    "import torch.nn as nn\n",
    "from torch.utils.data import DataLoader\n",
    "from model import NICUBradycardiaModel\n",
    "from datasets import load_from_disk\n",
    "from tqdm import tqdm"
   ]
  },
  {
   "cell_type": "code",
   "execution_count": 7,
   "id": "b8b06845-1b10-4014-ac0a-35b7b00c1b30",
   "metadata": {},
   "outputs": [],
   "source": [
    "# Load the dataset\n",
    "dataset = load_from_disk(\"bradycardia-balanced\")"
   ]
  },
  {
   "cell_type": "code",
   "execution_count": 8,
   "id": "3aaaa8cf-3653-44c9-9554-49941bd51aff",
   "metadata": {},
   "outputs": [],
   "source": [
    "# Define a collate function\n",
    "def collate_fn(batch):\n",
    "    inputs = torch.tensor([item['input'] for item in batch], dtype=torch.float32)  # Shape: (batch, 2, 3750)\n",
    "    labels = torch.tensor([item['label'] for item in batch], dtype=torch.long)\n",
    "    return inputs, labels\n",
    "\n",
    "# Create DataLoader\n",
    "train_loader = DataLoader(\n",
    "    dataset,\n",
    "    batch_size=64,\n",
    "    shuffle=True,\n",
    "    collate_fn=collate_fn\n",
    ")\n",
    "\n",
    "device = torch.device(\"cuda\" if torch.cuda.is_available() else \"cpu\")"
   ]
  },
  {
   "cell_type": "code",
   "execution_count": 9,
   "id": "e672b088-1673-4780-a165-53ecfaec0b95",
   "metadata": {},
   "outputs": [],
   "source": [
    "model = NICUBradycardiaModel(\n",
    "    in_channels=2,\n",
    "    seq_length=3750,   # 15s at 250Hz\n",
    "    hidden_size=1536,  # Large LSTM hidden\n",
    "    lstm_layers=2, \n",
    "    out_channels=2\n",
    ").to(device)\n",
    "\n",
    "criterion = nn.CrossEntropyLoss()  # Binary classification (2 classes)\n",
    "optimizer = torch.optim.AdamW(model.parameters(), lr=1e-4)"
   ]
  },
  {
   "cell_type": "code",
   "execution_count": 11,
   "id": "f45da59e-b0dc-4e52-a404-5a0cae77e684",
   "metadata": {},
   "outputs": [
    {
     "name": "stderr",
     "output_type": "stream",
     "text": [
      "Epoch 1/2: 100%|██████████| 3280/3280 [13:43<00:00,  3.98it/s, Loss=0.4387, Accuracy=78.08%]\n"
     ]
    },
    {
     "name": "stdout",
     "output_type": "stream",
     "text": [
      "Epoch [1/2] | Loss: 0.4387 | Accuracy: 78.08%\n"
     ]
    },
    {
     "name": "stderr",
     "output_type": "stream",
     "text": [
      "Epoch 2/2: 100%|██████████| 3280/3280 [13:41<00:00,  3.99it/s, Loss=0.3108, Accuracy=86.01%]"
     ]
    },
    {
     "name": "stdout",
     "output_type": "stream",
     "text": [
      "Epoch [2/2] | Loss: 0.3108 | Accuracy: 86.01%\n"
     ]
    },
    {
     "name": "stderr",
     "output_type": "stream",
     "text": [
      "\n"
     ]
    }
   ],
   "source": [
    "num_epochs = 2\n",
    "\n",
    "for epoch in range(num_epochs):\n",
    "    model.train()\n",
    "    total_loss = 0.0\n",
    "    total_correct = 0\n",
    "    total_samples = 0\n",
    "    \n",
    "    # Initialize the tqdm progress bar for the current epoch\n",
    "    progress_bar = tqdm(train_loader, desc=f\"Epoch {epoch+1}/{num_epochs}\", leave=True)\n",
    "    \n",
    "    for batch_idx, batch in enumerate(progress_bar):\n",
    "        # batch is a dictionary or tuple of (inputs, labels)\n",
    "        inputs, labels = batch\n",
    "        inputs = inputs.to(device)   # (batch, 2, 3750)\n",
    "        labels = labels.to(device)   # (batch,)\n",
    "        \n",
    "        optimizer.zero_grad()\n",
    "        \n",
    "        outputs, _ = model(inputs)  # outputs: (batch, 2)\n",
    "        loss = criterion(outputs, labels)\n",
    "        \n",
    "        loss.backward()\n",
    "        optimizer.step()\n",
    "        \n",
    "        total_loss += loss.item() * inputs.size(0)\n",
    "        \n",
    "        # Compute accuracy\n",
    "        _, preds = torch.max(outputs, dim=1)\n",
    "        correct = torch.sum(preds == labels).item()\n",
    "        total_correct += correct\n",
    "        total_samples += inputs.size(0)\n",
    "        \n",
    "        # Update the progress bar\n",
    "        avg_loss = total_loss / total_samples\n",
    "        accuracy = total_correct / total_samples * 100.0\n",
    "        progress_bar.set_postfix({\"Loss\": f\"{avg_loss:.4f}\", \"Accuracy\": f\"{accuracy:.2f}%\"})\n",
    "    \n",
    "    # Print epoch-level results\n",
    "    print(f\"Epoch [{epoch+1}/{num_epochs}] | Loss: {avg_loss:.4f} | Accuracy: {accuracy:.2f}%\")"
   ]
  },
  {
   "cell_type": "code",
   "execution_count": 13,
   "id": "2bedfbda-dd0a-4b3f-bc54-0595de60a9e4",
   "metadata": {},
   "outputs": [],
   "source": [
    "torch.save(model.state_dict(), \"nicu_bradycardia_model.pth\")"
   ]
  }
 ],
 "metadata": {
  "kernelspec": {
   "display_name": "Python 3 (ipykernel)",
   "language": "python",
   "name": "python3"
  },
  "language_info": {
   "codemirror_mode": {
    "name": "ipython",
    "version": 3
   },
   "file_extension": ".py",
   "mimetype": "text/x-python",
   "name": "python",
   "nbconvert_exporter": "python",
   "pygments_lexer": "ipython3",
   "version": "3.11.10"
  }
 },
 "nbformat": 4,
 "nbformat_minor": 5
}
