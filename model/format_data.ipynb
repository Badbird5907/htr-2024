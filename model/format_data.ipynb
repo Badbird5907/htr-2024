{
 "cells": [
  {
   "cell_type": "code",
   "execution_count": 9,
   "id": "60331ecf-e96b-477b-91ae-cab6050121b6",
   "metadata": {},
   "outputs": [],
   "source": [
    "import os\n",
    "import numpy as np\n",
    "import pandas as pd\n",
    "from scipy.signal import resample\n",
    "from datasets import Dataset\n",
    "import wfdb  # For reading WFDB records\n",
    "from datasets import Features, Array2D, Value"
   ]
  },
  {
   "cell_type": "code",
   "execution_count": 5,
   "id": "690bf4f6-590f-4bb4-b07a-523e859c56d6",
   "metadata": {},
   "outputs": [],
   "source": [
    "# Constants\n",
    "BASE_PATH = \"physionet.org/files/picsdb/1.0.0/\"\n",
    "OUTPUT_PATH = \"HTR-2024-brachy\"\n",
    "TARGET_SAMPLING_RATE = 250  # Target sampling rate for all signals (Hz)\n",
    "RESP_SAMPLING_RATE = 250  # Assuming all respiration signals will be resampled to 250Hz\n",
    "\n",
    "# ECG Sampling Rates for specific infants\n",
    "ECG_SAMPLING_RATES = {1: 250, 5: 250}  # ECG sampling rates for infants 1 and 5\n",
    "DEFAULT_ECG_SAMPLING_RATE = 500  # Default ECG sampling rate"
   ]
  },
  {
   "cell_type": "code",
   "execution_count": 3,
   "id": "344b9162-e13e-4772-a022-a067e5284301",
   "metadata": {},
   "outputs": [],
   "source": [
    "# Helper Function: Resample signals to target sampling rate\n",
    "def resample_signal(signal, original_rate, target_rate):\n",
    "    if original_rate != target_rate:\n",
    "        num_samples = int(len(signal) * target_rate / original_rate)\n",
    "        return resample(signal, num_samples)\n",
    "    return signal\n",
    "\n",
    "# Helper Function: Load WFDB signal and annotations\n",
    "def load_signals_and_annotations(infant_id):\n",
    "    try:\n",
    "        # ECG\n",
    "        ecg_record_name = f\"infant{infant_id}_ecg\"\n",
    "        ecg_record = wfdb.rdrecord(os.path.join(BASE_PATH, ecg_record_name))\n",
    "        ecg_sampling_rate = ECG_SAMPLING_RATES.get(infant_id, DEFAULT_ECG_SAMPLING_RATE)\n",
    "        ecg_signal = ecg_record.p_signal[:, 0]  # Assuming single channel ECG\n",
    "        ecg_signal = resample_signal(ecg_signal, ecg_sampling_rate, TARGET_SAMPLING_RATE)\n",
    "        \n",
    "        # Respiration\n",
    "        resp_record_name = f\"infant{infant_id}_resp\"\n",
    "        resp_record = wfdb.rdrecord(os.path.join(BASE_PATH, resp_record_name))\n",
    "        resp_sampling_rate = resp_record.fs  # Original respiration sampling rate\n",
    "        resp_signal = resp_record.p_signal[:, 0]  # Assuming single channel Respiration\n",
    "        resp_signal = resample_signal(resp_signal, resp_sampling_rate, RESP_SAMPLING_RATE)\n",
    "        \n",
    "        # Load Bradycardia Annotations\n",
    "        brady_ann = wfdb.rdann(os.path.join(BASE_PATH, ecg_record_name), 'atr')\n",
    "        brady_times = np.array(brady_ann.sample) / ecg_sampling_rate  # Convert to seconds\n",
    "        \n",
    "        return ecg_signal, resp_signal, brady_times\n",
    "    except Exception as e:\n",
    "        print(f\"Error loading data for infant {infant_id}: {e}\")\n",
    "        return None, None, None\n"
   ]
  },
  {
   "cell_type": "code",
   "execution_count": 7,
   "id": "0077cff3-85b8-4264-ad3b-4f8c2b21ae2e",
   "metadata": {},
   "outputs": [
    {
     "name": "stdout",
     "output_type": "stream",
     "text": [
      "Processing Infant 1...\n",
      "Infant 1: 10947 segments processed.\n",
      "Processing Infant 2...\n",
      "Infant 2: 10521 segments processed.\n",
      "Processing Infant 3...\n",
      "Infant 3: 10491 segments processed.\n",
      "Processing Infant 4...\n",
      "Infant 4: 11227 segments processed.\n",
      "Processing Infant 5...\n",
      "Infant 5: 11700 segments processed.\n",
      "Processing Infant 6...\n",
      "Infant 6: 11665 segments processed.\n",
      "Processing Infant 7...\n",
      "Infant 7: 4880 segments processed.\n",
      "Processing Infant 8...\n",
      "Infant 8: 5904 segments processed.\n",
      "Processing Infant 9...\n",
      "Infant 9: 16875 segments processed.\n",
      "Processing Infant 10...\n",
      "Infant 10: 11344 segments processed.\n",
      "Total segments: 105554\n",
      "   infant_id  segment_id                                              input  \\\n",
      "0          1           0  [[-0.019983521088922047, 5.627044814449522], [...   \n",
      "1          1           1  [[-0.07493820408345768, -0.5535211537849853], ...   \n",
      "2          1           2  [[-0.054954682994535625, -0.546168427546254], ...   \n",
      "3          1           3  [[-0.001248970068057628, -0.32019547734062365]...   \n",
      "4          1           4  [[-0.1748558095280679, -0.3482163250006314], [...   \n",
      "\n",
      "   label  \n",
      "0      0  \n",
      "1      0  \n",
      "2      0  \n",
      "3      0  \n",
      "4      0  \n"
     ]
    }
   ],
   "source": [
    "# Process Dataset\n",
    "data = []\n",
    "infants = range(1, 11)  # Infants 1 to 10\n",
    "\n",
    "for infant_id in infants:\n",
    "    print(f\"Processing Infant {infant_id}...\")\n",
    "    ecg_signal, resp_signal, brady_times = load_signals_and_annotations(infant_id)\n",
    "    \n",
    "    if ecg_signal is None or resp_signal is None:\n",
    "        print(f\"Skipping Infant {infant_id} due to loading error.\")\n",
    "        continue\n",
    "    \n",
    "    # Synchronize signals\n",
    "    min_length = min(len(ecg_signal), len(resp_signal))\n",
    "    ecg_signal = ecg_signal[:min_length]\n",
    "    resp_signal = resp_signal[:min_length]\n",
    "    \n",
    "    # Combine ECG and Respiration into a 2-channel signal\n",
    "    combined_signal = np.stack([ecg_signal, resp_signal], axis=0)  # Shape: (2, time)\n",
    "    \n",
    "    # Create Bradycardia Labels\n",
    "    brady_labels = np.zeros(min_length, dtype=int)\n",
    "    for brady_time in brady_times:\n",
    "        brady_idx = int(brady_time * TARGET_SAMPLING_RATE)\n",
    "        if brady_idx < len(brady_labels):\n",
    "            brady_labels[brady_idx] = 1  # Mark bradycardia onset\n",
    "    \n",
    "    # Aggregate Bradycardia within 15s segments\n",
    "    segment_length = TARGET_SAMPLING_RATE * 15  # 15 seconds\n",
    "    total_segments = len(ecg_signal) // segment_length\n",
    "    \n",
    "    for seg in range(total_segments):\n",
    "        start = seg * segment_length\n",
    "        end = start + segment_length\n",
    "        segment = combined_signal[:, start:end]\n",
    "        label = 1 if np.any(brady_labels[start:end]) else 0\n",
    "        data.append({\n",
    "            \"infant_id\": infant_id,\n",
    "            \"segment_id\": seg,\n",
    "            \"input\": segment.T.tolist(),  # Shape: (3750, 2) -> transpose for channels last\n",
    "            \"label\": label\n",
    "        })\n",
    "    \n",
    "    print(f\"Infant {infant_id}: {total_segments} segments processed.\")\n",
    "\n",
    "# Convert to Pandas DataFrame\n",
    "df = pd.DataFrame(data)\n",
    "\n",
    "# Verify DataFrame\n",
    "print(f\"Total segments: {len(df)}\")\n",
    "print(df.head())"
   ]
  },
  {
   "cell_type": "code",
   "execution_count": 10,
   "id": "9d8f8def-540d-4320-ba84-8c9d374c98ba",
   "metadata": {},
   "outputs": [
    {
     "data": {
      "application/vnd.jupyter.widget-view+json": {
       "model_id": "174c8c5301514c8faaf167a64169428a",
       "version_major": 2,
       "version_minor": 0
      },
      "text/plain": [
       "Saving the dataset (0/10 shards):   0%|          | 0/105554 [00:00<?, ? examples/s]"
      ]
     },
     "metadata": {},
     "output_type": "display_data"
    },
    {
     "name": "stdout",
     "output_type": "stream",
     "text": [
      "Dataset successfully saved to HTR-2024-brachy\n"
     ]
    }
   ],
   "source": [
    "# Define Custom Features Schema\n",
    "features = Features({\n",
    "    \"infant_id\": Value(\"int32\"),\n",
    "    \"segment_id\": Value(\"int32\"),\n",
    "    \"input\": Array2D(shape=(2, 3750), dtype=\"float32\"),\n",
    "    \"label\": Value(\"int64\")\n",
    "})\n",
    "\n",
    "# Convert to Hugging Face Dataset with Custom Features\n",
    "hf_dataset = Dataset.from_pandas(df, features=features)\n",
    "\n",
    "# Save Dataset to Disk in Parquet Format\n",
    "hf_dataset.save_to_disk(OUTPUT_PATH)\n",
    "\n",
    "print(f\"Dataset successfully saved to {OUTPUT_PATH}\")"
   ]
  }
 ],
 "metadata": {
  "kernelspec": {
   "display_name": "Python 3 (ipykernel)",
   "language": "python",
   "name": "python3"
  },
  "language_info": {
   "codemirror_mode": {
    "name": "ipython",
    "version": 3
   },
   "file_extension": ".py",
   "mimetype": "text/x-python",
   "name": "python",
   "nbconvert_exporter": "python",
   "pygments_lexer": "ipython3",
   "version": "3.11.10"
  }
 },
 "nbformat": 4,
 "nbformat_minor": 5
}
